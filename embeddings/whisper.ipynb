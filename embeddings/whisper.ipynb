{
  "cells": [
    {
      "cell_type": "markdown",
      "metadata": {
        "id": "vyktJ8B5_10U"
      },
      "source": [
        "1. 挂载磁盘"
      ]
    },
    {
      "cell_type": "code",
      "execution_count": null,
      "metadata": {
        "id": "t9rTE3Ne7PNg"
      },
      "outputs": [],
      "source": [
        "from google.colab import drive\n",
        "drive.mount('/content/drive')"
      ]
    },
    {
      "attachments": {},
      "cell_type": "markdown",
      "metadata": {
        "id": "BP4X8rI3AAiY"
      },
      "source": [
        "2. 安装依赖的 pip 包"
      ]
    },
    {
      "cell_type": "code",
      "execution_count": null,
      "metadata": {
        "id": "z32RoFYzNx4n"
      },
      "outputs": [],
      "source": [
        "! pip install pydub \"git+https://github.com/openai/whisper.git\" "
      ]
    },
    {
      "cell_type": "code",
      "execution_count": null,
      "metadata": {
        "id": "Ktf3-7asN6Nq"
      },
      "outputs": [],
      "source": [
        "from pydub import AudioSegment\n",
        "import whisper\n",
        "import torch\n",
        "import pandas as pd\n",
        "\n",
        "# 输入文件路径\n",
        "input_file = \"/content/drive/MyDrive/audio/bytetalk.mp3\"\n",
        "\n",
        "# 切分的时间间隔，单位为毫秒\n",
        "segment_length = 30000\n",
        "\n",
        "# 读取音频文件\n",
        "audio = AudioSegment.from_file(input_file, format=\"mp3\")\n",
        "\n",
        "# 初始化whisper\n",
        "torch.cuda.is_available()\n",
        "DEVICE = \"cuda\" if torch.cuda.is_available() else \"cpu\"\n",
        "model = whisper.load_model(\"medium\", device=DEVICE)\n",
        "\n",
        "# 计算总时间\n",
        "total_length = len(audio)\n",
        "\n",
        "# 初始化时间戳和识别结果列表\n",
        "timestamps = []\n",
        "results = []\n",
        "\n",
        "# 循环切分音频\n",
        "for i in range(0, total_length, segment_length):\n",
        "    # 计算开始和结束时间\n",
        "    start_time = i\n",
        "    end_time = min(i + segment_length, total_length)\n",
        "\n",
        "    # 截取音频片段\n",
        "    segment = audio[start_time:end_time]\n",
        "\n",
        "    # 生成文件名\n",
        "    output_file = \"/content/drive/MyDrive/result_data/{}.wav\".format((i // segment_length + 1))\n",
        "\n",
        "    # 导出音频片段到wav文件\n",
        "    segment.export(output_file, format=\"wav\")\n",
        "\n",
        "    # 进行语音识别\n",
        "    result = model.transcribe(output_file)\n",
        "    print(result[\"text\"])\n",
        "\n",
        "    # 添加时间戳和识别结果到列表\n",
        "    timestamps.append(start_time / 1000)\n",
        "    results.append(result[\"text\"])\n",
        "\n",
        "# 合并时间戳和识别结果为DataFrame\n",
        "df = pd.DataFrame({\"timestamp\": timestamps, \"result\": results})\n",
        "\n",
        "# 输出到CSV文件\n",
        "df.to_csv(\"/content/drive/MyDrive/result_data/output.csv\", index=False)\n"
      ]
    }
  ],
  "metadata": {
    "accelerator": "GPU",
    "colab": {
      "private_outputs": true,
      "provenance": []
    },
    "gpuClass": "standard",
    "kernelspec": {
      "display_name": "Python 3",
      "name": "python3"
    },
    "language_info": {
      "name": "python"
    }
  },
  "nbformat": 4,
  "nbformat_minor": 0
}
